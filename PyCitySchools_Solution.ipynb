{
 "cells": [
  {
   "cell_type": "code",
   "execution_count": 53,
   "metadata": {},
   "outputs": [],
   "source": [
    "#importing dependencies\n",
    "import csv\n",
    "import pandas as pd\n",
    "import numpy as np"
   ]
  },
  {
   "cell_type": "code",
   "execution_count": 54,
   "metadata": {},
   "outputs": [],
   "source": [
    "#setting file paths\n",
    "file0_csv = '04-Pandas/PyCitySchools/Resources/schools_complete.csv'\n",
    "file1_csv = '04-Pandas/PyCitySchools/Resources/students_complete.csv'"
   ]
  },
  {
   "cell_type": "code",
   "execution_count": 55,
   "metadata": {},
   "outputs": [],
   "source": [
    "#creating initial pandas dataframes\n",
    "schools_df = pd.read_csv(file0_csv)\n",
    "students_df = pd.read_csv(file1_csv)"
   ]
  },
  {
   "cell_type": "code",
   "execution_count": 56,
   "metadata": {},
   "outputs": [],
   "source": [
    "#creating district only dataframe\n",
    "district_only_df = schools_df.loc[schools_df['type'] == 'District', :]"
   ]
  },
  {
   "cell_type": "code",
   "execution_count": 57,
   "metadata": {},
   "outputs": [],
   "source": [
    "total_schools = district_only_df[\"type\"].count()"
   ]
  },
  {
   "cell_type": "code",
   "execution_count": 58,
   "metadata": {},
   "outputs": [],
   "source": [
    "#creating total students object\n",
    "total_students = district_only_df['size'].sum()"
   ]
  },
  {
   "cell_type": "code",
   "execution_count": 59,
   "metadata": {},
   "outputs": [],
   "source": [
    "#creating total budget object\n",
    "total_budget = district_only_df['budget'].sum()"
   ]
  },
  {
   "cell_type": "code",
   "execution_count": 60,
   "metadata": {},
   "outputs": [],
   "source": [
    "#merging district only and students dataframes\n",
    "merged_df = pd.merge(district_only_df, students_df, on=\"school_name\")"
   ]
  },
  {
   "cell_type": "code",
   "execution_count": 61,
   "metadata": {},
   "outputs": [],
   "source": [
    "#creating math and reading pass/fail categories and recasting those categories as integers\n",
    "bins = [0, 59, 100]\n",
    "group_names = [0, 1]\n",
    "#\n",
    "merged_df[\"Pass or Fail, Math\"] = pd.cut(merged_df['math_score'], bins, labels=group_names)\n",
    "merged_df[\"Pass or Fail, Reading\"] = pd.cut(merged_df['reading_score'], bins, labels=group_names)\n",
    "#\n",
    "int_mth_stu = merged_df.astype({'Pass or Fail, Math': 'int64'})\n",
    "int_rd_stu = merged_df.astype({'Pass or Fail, Reading': 'int64'})"
   ]
  },
  {
   "cell_type": "code",
   "execution_count": 62,
   "metadata": {},
   "outputs": [],
   "source": [
    "#creating average math score object\n",
    "average_math_score = merged_df['math_score'].mean()"
   ]
  },
  {
   "cell_type": "code",
   "execution_count": 63,
   "metadata": {},
   "outputs": [],
   "source": [
    "#creating average reading score object\n",
    "average_reading_score = merged_df['reading_score'].mean()"
   ]
  },
  {
   "cell_type": "code",
   "execution_count": 64,
   "metadata": {},
   "outputs": [],
   "source": [
    "#creating percent pass/fail math/reading objects\n",
    "prc_mth = int_mth_stu['Pass or Fail, Math'].sum() / total_students * 100\n",
    "prc_rd = int_rd_stu['Pass or Fail, Reading'].sum() / total_students * 100"
   ]
  },
  {
   "cell_type": "code",
   "execution_count": 65,
   "metadata": {},
   "outputs": [],
   "source": [
    "#creating overall passing rate object\n",
    "overall = (prc_mth + prc_rd) / 2"
   ]
  },
  {
   "cell_type": "code",
   "execution_count": 66,
   "metadata": {},
   "outputs": [],
   "source": [
    "#an attempt at a title\n",
    "district_schools = \"Overview\" "
   ]
  },
  {
   "cell_type": "code",
   "execution_count": 67,
   "metadata": {},
   "outputs": [
    {
     "data": {
      "text/html": [
       "<div>\n",
       "<style scoped>\n",
       "    .dataframe tbody tr th:only-of-type {\n",
       "        vertical-align: middle;\n",
       "    }\n",
       "\n",
       "    .dataframe tbody tr th {\n",
       "        vertical-align: top;\n",
       "    }\n",
       "\n",
       "    .dataframe thead th {\n",
       "        text-align: right;\n",
       "    }\n",
       "</style>\n",
       "<table border=\"1\" class=\"dataframe\">\n",
       "  <thead>\n",
       "    <tr style=\"text-align: right;\">\n",
       "      <th></th>\n",
       "      <th>District Schools</th>\n",
       "      <th>Total Schools</th>\n",
       "      <th>Total Students</th>\n",
       "      <th>Total Budget</th>\n",
       "      <th>Average Math Score</th>\n",
       "      <th>Average Reading Score</th>\n",
       "      <th>% Passing Math</th>\n",
       "      <th>% Passing Reading</th>\n",
       "      <th>Overall Passing Rate</th>\n",
       "    </tr>\n",
       "  </thead>\n",
       "  <tbody>\n",
       "    <tr>\n",
       "      <td>0</td>\n",
       "      <td>Overview</td>\n",
       "      <td>7</td>\n",
       "      <td>26976</td>\n",
       "      <td>$17347923.00</td>\n",
       "      <td>%76.99</td>\n",
       "      <td>%80.96</td>\n",
       "      <td>%89.03</td>\n",
       "      <td>%100.00</td>\n",
       "      <td>%94.52</td>\n",
       "    </tr>\n",
       "  </tbody>\n",
       "</table>\n",
       "</div>"
      ],
      "text/plain": [
       "  District Schools  Total Schools  Total Students  Total Budget  \\\n",
       "0         Overview              7           26976  $17347923.00   \n",
       "\n",
       "  Average Math Score Average Reading Score % Passing Math % Passing Reading  \\\n",
       "0             %76.99                %80.96         %89.03           %100.00   \n",
       "\n",
       "  Overall Passing Rate  \n",
       "0               %94.52  "
      ]
     },
     "execution_count": 67,
     "metadata": {},
     "output_type": "execute_result"
    }
   ],
   "source": [
    "#building and populating district only dataframe\n",
    "district_overview = pd.DataFrame({\n",
    "    \"District Schools\": [district_schools],\n",
    "    \"Total Schools\": [total_schools],\n",
    "    \"Total Students\": [total_students],\n",
    "    \"Total Budget\": [total_budget],\n",
    "    \"Average Math Score\": [average_math_score],\n",
    "    \"Average Reading Score\": [average_reading_score],\n",
    "    \"% Passing Math\": [prc_mth],\n",
    "    \"% Passing Reading\": [prc_rd],\n",
    "    \"Overall Passing Rate\": [overall]\n",
    "    })\n",
    "#formating rows\n",
    "district_overview['Total Budget'] = district_overview['Total Budget'].map(\"${:.2f}\".format)\n",
    "district_overview['Average Math Score'] = district_overview['Average Math Score'].map(\"%{:.2f}\".format)\n",
    "district_overview['Average Reading Score'] = district_overview['Average Reading Score'].map(\"%{:.2f}\".format)\n",
    "district_overview['% Passing Math'] = district_overview['% Passing Math'].map(\"%{:.2f}\".format)\n",
    "district_overview['% Passing Reading'] = district_overview['% Passing Reading'].map(\"%{:.2f}\".format)\n",
    "district_overview['Overall Passing Rate'] = district_overview['Overall Passing Rate'].map(\"%{:.2f}\".format)\n",
    "#\n",
    "#calling district overview dataframe\n",
    "#\n",
    "district_overview"
   ]
  },
  {
   "cell_type": "code",
   "execution_count": 68,
   "metadata": {},
   "outputs": [],
   "source": [
    "#In the above data_frame I was working under the assumption that I was meant to create a district only,\n",
    "#as in, not charter over view. Below I'll build what was actually asked for."
   ]
  },
  {
   "cell_type": "code",
   "execution_count": 69,
   "metadata": {},
   "outputs": [],
   "source": [
    "all_the_schools_df = schools_df"
   ]
  },
  {
   "cell_type": "code",
   "execution_count": 105,
   "metadata": {},
   "outputs": [],
   "source": [
    "every_school='All Schools'"
   ]
  },
  {
   "cell_type": "code",
   "execution_count": 106,
   "metadata": {},
   "outputs": [],
   "source": [
    "#creating schools count\n",
    "all_schools = all_the_schools_df[\"type\"].count()"
   ]
  },
  {
   "cell_type": "code",
   "execution_count": 107,
   "metadata": {},
   "outputs": [],
   "source": [
    "#creating total students object\n",
    "totes_students = all_the_schools_df['size'].sum()"
   ]
  },
  {
   "cell_type": "code",
   "execution_count": 108,
   "metadata": {},
   "outputs": [
    {
     "data": {
      "text/plain": [
       "24649428"
      ]
     },
     "execution_count": 108,
     "metadata": {},
     "output_type": "execute_result"
    }
   ],
   "source": [
    "#creating budget count\n",
    "totes_budget = all_the_schools_df['budget'].sum()\n",
    "\n",
    "totes_budget"
   ]
  },
  {
   "cell_type": "code",
   "execution_count": 109,
   "metadata": {},
   "outputs": [],
   "source": [
    "#merging district only and students dataframes\n",
    "merger_df = pd.merge(all_the_schools_df, students_df, on=\"school_name\")"
   ]
  },
  {
   "cell_type": "code",
   "execution_count": 110,
   "metadata": {},
   "outputs": [],
   "source": [
    "#creating math and reading pass/fail categories and recasting those categories as integers\n",
    "bins = [0, 59, 100]\n",
    "group_names = [0, 1]\n",
    "#\n",
    "merger_df[\"Pass or Fail, Math\"] = pd.cut(merger_df['math_score'], bins, labels=group_names)\n",
    "merger_df[\"Pass or Fail, Reading\"] = pd.cut(merger_df['reading_score'], bins, labels=group_names)\n",
    "#\n",
    "int_mth_students = merger_df.astype({'Pass or Fail, Math': 'int64'})\n",
    "int_rd_students = merger_df.astype({'Pass or Fail, Reading': 'int64'})"
   ]
  },
  {
   "cell_type": "code",
   "execution_count": 111,
   "metadata": {},
   "outputs": [],
   "source": [
    "#creating average math score object\n",
    "average_math = merger_df['math_score'].mean()"
   ]
  },
  {
   "cell_type": "code",
   "execution_count": 112,
   "metadata": {},
   "outputs": [],
   "source": [
    "#creating average reading score object\n",
    "average_reading = merger_df['reading_score'].mean()"
   ]
  },
  {
   "cell_type": "code",
   "execution_count": 113,
   "metadata": {},
   "outputs": [],
   "source": [
    "#creating percent pass/fail math/reading objects\n",
    "prc__mth = int_mth_students['Pass or Fail, Math'].sum() / total_students * 100\n",
    "prc__rd = int_rd_students['Pass or Fail, Reading'].sum() / total_students * 100"
   ]
  },
  {
   "cell_type": "code",
   "execution_count": 114,
   "metadata": {},
   "outputs": [],
   "source": [
    "#creating overall passing rate object\n",
    "overall_obj = (prc__mth + prc__rd) / 2"
   ]
  },
  {
   "cell_type": "code",
   "execution_count": 117,
   "metadata": {},
   "outputs": [
    {
     "data": {
      "text/html": [
       "<div>\n",
       "<style scoped>\n",
       "    .dataframe tbody tr th:only-of-type {\n",
       "        vertical-align: middle;\n",
       "    }\n",
       "\n",
       "    .dataframe tbody tr th {\n",
       "        vertical-align: top;\n",
       "    }\n",
       "\n",
       "    .dataframe thead th {\n",
       "        text-align: right;\n",
       "    }\n",
       "</style>\n",
       "<table border=\"1\" class=\"dataframe\">\n",
       "  <thead>\n",
       "    <tr style=\"text-align: right;\">\n",
       "      <th></th>\n",
       "      <th>Total Schools</th>\n",
       "      <th>Total Students</th>\n",
       "      <th>Total Budget</th>\n",
       "      <th>Average Math Score</th>\n",
       "      <th>Average Reading Score</th>\n",
       "      <th>% Passing Math</th>\n",
       "      <th>% Passing Reading</th>\n",
       "      <th>Overall Passing Rate</th>\n",
       "    </tr>\n",
       "  </thead>\n",
       "  <tbody>\n",
       "    <tr>\n",
       "      <td>0</td>\n",
       "      <td>15</td>\n",
       "      <td>39170</td>\n",
       "      <td>$24649428.00</td>\n",
       "      <td>%78.99</td>\n",
       "      <td>%81.88</td>\n",
       "      <td>%134.23</td>\n",
       "      <td>%145.20</td>\n",
       "      <td>%139.72</td>\n",
       "    </tr>\n",
       "  </tbody>\n",
       "</table>\n",
       "</div>"
      ],
      "text/plain": [
       "   Total Schools  Total Students  Total Budget Average Math Score  \\\n",
       "0             15           39170  $24649428.00             %78.99   \n",
       "\n",
       "  Average Reading Score % Passing Math % Passing Reading Overall Passing Rate  \n",
       "0                %81.88        %134.23           %145.20              %139.72  "
      ]
     },
     "execution_count": 117,
     "metadata": {},
     "output_type": "execute_result"
    }
   ],
   "source": [
    "#building and populating district only dataframe\n",
    "schools_overview = pd.DataFrame({\n",
    "    \"Total Schools\": [all_schools],\n",
    "    \"Total Students\": [totes_students],\n",
    "    \"Total Budget\": [totes_budget],\n",
    "    \"Average Math Score\": [average_math],\n",
    "    \"Average Reading Score\": [average_reading],\n",
    "    \"% Passing Math\": [prc__mth],\n",
    "    \"% Passing Reading\": [prc__rd],\n",
    "    \"Overall Passing Rate\": [overall_obj]\n",
    "    })\n",
    "#formating rows\n",
    "schools_overview['Total Budget'] = schools_overview['Total Budget'].map(\"${:.2f}\".format)\n",
    "schools_overview['Average Math Score'] = schools_overview['Average Math Score'].map(\"%{:.2f}\".format)\n",
    "schools_overview['Average Reading Score'] = schools_overview['Average Reading Score'].map(\"%{:.2f}\".format)\n",
    "schools_overview['% Passing Math'] = schools_overview['% Passing Math'].map(\"%{:.2f}\".format)\n",
    "schools_overview['% Passing Reading'] = schools_overview['% Passing Reading'].map(\"%{:.2f}\".format)\n",
    "schools_overview['Overall Passing Rate'] = schools_overview['Overall Passing Rate'].map(\"%{:.2f}\".format)\n",
    "#\n",
    "schools_overview"
   ]
  },
  {
   "cell_type": "code",
   "execution_count": null,
   "metadata": {},
   "outputs": [],
   "source": []
  },
  {
   "cell_type": "code",
   "execution_count": null,
   "metadata": {},
   "outputs": [],
   "source": []
  }
 ],
 "metadata": {
  "kernelspec": {
   "display_name": "Python 3",
   "language": "python",
   "name": "python3"
  },
  "language_info": {
   "codemirror_mode": {
    "name": "ipython",
    "version": 3
   },
   "file_extension": ".py",
   "mimetype": "text/x-python",
   "name": "python",
   "nbconvert_exporter": "python",
   "pygments_lexer": "ipython3",
   "version": "3.7.4"
  }
 },
 "nbformat": 4,
 "nbformat_minor": 2
}
